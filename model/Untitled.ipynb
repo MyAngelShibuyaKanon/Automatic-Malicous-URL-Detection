{
 "cells": [
  {
   "cell_type": "code",
   "execution_count": 2,
   "id": "23e4264f",
   "metadata": {},
   "outputs": [],
   "source": [
    "from features import FeaturesFinder\n",
    "import time\n",
    "import pandas as pd\n",
    "from csv import writer"
   ]
  },
  {
   "cell_type": "code",
   "execution_count": 3,
   "id": "3e722bb7",
   "metadata": {
    "scrolled": true
   },
   "outputs": [],
   "source": [
    "phish = pd.read_csv('verified_online.csv')\n",
    "urls = []"
   ]
  },
  {
   "cell_type": "code",
   "execution_count": null,
   "id": "1815eec5",
   "metadata": {
    "scrolled": true
   },
   "outputs": [
    {
     "name": "stdout",
     "output_type": "stream",
     "text": [
      "['https://composedlabs.com', 1, 1, 1, 1, 1, 1, 1, 1, -1, 1, 1, -1, -1, -1, -1, -1, -1, -1, -1, -1, -1, -1, -1, -1, 1, -1, 1]\n",
      "['https://kevinloehr.com', 1, 1, 1, 1, 1, 1, 1, 1, -1, 1, 1, -1, -1, -1, -1, -1, -1, -1, -1, -1, -1, -1, -1, -1, 1, -1, 1]\n",
      "['https://emmabeede.com', 1, 1, 1, 1, 1, 1, 1, 1, -1, 1, 1, -1, -1, -1, -1, -1, -1, -1, -1, -1, -1, -1, -1, -1, 1, -1, 1]\n",
      "['https://fdrobidoux.com', 1, 1, -1, 1, 1, 1, 1, 1, -1, 1, 1, -1, -1, -1, -1, -1, -1, -1, -1, -1, -1, -1, -1, -1, 1, -1, 1]\n",
      "['https://fmytbtm.com', 1, 1, 1, 1, 1, 1, 1, 1, -1, 1, 1, -1, -1, -1, -1, -1, -1, -1, -1, -1, -1, -1, -1, -1, 1, -1, 1]\n",
      "['https://www.youspinaz.com', 1, 1, 1, 1, 1, 1, 0, 1, -1, 1, 1, -1, -1, -1, -1, -1, -1, -1, -1, -1, -1, -1, -1, -1, 1, -1, 1]\n",
      "['https://guangfasa.com', 1, 1, 1, 1, 1, 1, 1, 1, -1, 1, 1, -1, -1, -1, -1, -1, -1, -1, -1, -1, -1, -1, -1, -1, 1, -1, 1]\n",
      "['https://namxingrid.com/45644613d/osma.php?aa=wahre&session=6e616d78696e677269642e636f6d', 1, -1, 1, 1, 1, 1, 0, 1, -1, 1, 1, 0, -1, 0, -1, 1, -1, -1, -1, 1, -1, -1, -1, -1, 1, 1, 1]\n",
      "['https://namxingrid.com/45644613d/index.php', 1, 1, 1, 1, 1, 1, 0, 1, -1, 1, 1, 0, -1, 0, -1, 1, -1, -1, -1, 1, -1, -1, -1, -1, 1, 1, 1]\n",
      "['https://suisscsx.page.link/XktS', 1, 1, 1, 1, 1, 1, 0, 1, -1, 1, 1, 0, -1, 0, -1, 1, -1, -1, -1, 1, -1, -1, -1, -1, 1, 1, 1]\n",
      "['http://deliveryupdate.info', 1, 1, 1, 1, 1, 1, 1, -1, -1, 1, 1, -1, -1, -1, -1, -1, -1, -1, -1, -1, -1, -1, -1, -1, 1, -1, 1]\n",
      "['https://firebasestorage.googleapis.com/v0/b/ooiwueiiwyeioow.appspot.com/o/index.html?alt=media&amp;token=1128cff1-5e62-4dc0-bc95-4b3cb43bee65', 1, -1, -1, 1, 1, 1, -1, 1, -1, 1, 1, 0, -1, 0, -1, 1, -1, -1, -1, 1, -1, -1, -1, -1, 1, 1, 1]\n",
      "['http://radioalumm.com', 1, 1, 1, 1, 1, 1, 1, -1, -1, 1, 1, 0, -1, 0, -1, 1, -1, -1, -1, 1, -1, -1, -1, -1, 1, 1, 1]\n",
      "['https://profitableturquoisescan.prexx12.repl.co/', 1, 1, 1, 1, 1, 1, -1, 1, -1, 1, 1, 0, -1, 1, -1, 1, -1, -1, -1, 1, -1, -1, -1, -1, 1, 0, 1]\n",
      "['https://ipfs.io/ipfs/QmWb6d7su9f4ApVzh9FNpGwmS12FBU19faSmeQ3MKQMcz8/robase.html#redacted@abuse.ionos.com', 1, -1, 1, -1, 1, 1, -1, 1, -1, 1, 1, 0, -1, 0, -1, 1, -1, -1, -1, 1, -1, -1, -1, -1, 1, 1, 1]\n",
      "['https://profitableturquoisescan--prexx12.repl.co/', 1, 1, 1, 1, 1, -1, 0, 1, -1, 1, 1, 0, -1, 1, -1, 1, -1, -1, -1, 1, -1, -1, -1, -1, 1, 0, 1]\n",
      "['https://6926fbf6-5aa4-4417-9b51-7668f2a9980c.id.repl.co/', 1, 0, 1, 1, 1, -1, -1, 1, -1, 1, 1, 0, -1, 1, -1, 1, -1, -1, -1, 1, -1, -1, -1, -1, 1, 0, 1]\n",
      "['https://eventraydium.web.app/', 1, 1, 1, 1, 1, 1, 0, 1, -1, 1, 1, 0, -1, 0, -1, 1, -1, -1, -1, 1, -1, -1, -1, -1, 1, 1, 1]\n",
      "['http://cabletelatl.com', 1, 1, 1, 1, 1, 1, 1, -1, -1, 1, 1, -1, -1, -1, -1, -1, -1, -1, -1, -1, -1, -1, -1, -1, 1, -1, 1]\n",
      "['http://grove-5bd0a.firebaseapp.com/', 1, 1, 1, 1, 1, -1, 0, -1, -1, 1, 1, -1, -1, 1, -1, 1, -1, -1, -1, 1, -1, -1, -1, -1, 1, 1, 1]\n",
      "['https://sonkzqbquwgdqauh-dot-pkrio-uitmis-danio-anwir.ue.r.appspot.com/', 1, 0, -1, 1, 1, -1, -1, 1, -1, 1, 1, 0, -1, 0, -1, 1, -1, -1, -1, 1, -1, -1, -1, -1, 1, 1, 1]\n",
      "['http://sonkzqbquwgdqauh-dot-pkrio-uitmis-danio-anwir.ue.r.appspot.com/', 1, 0, -1, 1, 1, -1, -1, -1, -1, 1, 1, 0, -1, 0, -1, 1, -1, -1, -1, 1, -1, -1, -1, -1, 1, 1, 1]\n",
      "['http://zr5lth.webwave.dev/', 1, 1, 1, 1, 1, 1, 0, -1, -1, 1, 1, -1, -1, 0, -1, 1, -1, -1, -1, 1, -1, -1, -1, -1, 1, -1, 1]\n",
      "['http://prinzeneis.com', 1, 1, 1, 1, 1, 1, 1, -1, -1, 1, 1, -1, -1, -1, -1, -1, -1, -1, -1, -1, -1, -1, -1, -1, 1, -1, 1]\n",
      "['http://dkb-kunden-login.selfip.com/kunden-access/eportal/.b74a8cb0f9fddec909226c606a0b54ac/login/?', 1, -1, 1, 1, 1, -1, -1, -1, -1, 1, 1, -1, -1, -1, -1, -1, -1, -1, -1, -1, -1, -1, -1, -1, 1, -1, 1]\n",
      "['http://dkb-kunden-login.selfip.com/kunden-access/eportal/.b74a8cb0f9fddec909226c606a0b54ac/login/', 1, -1, 1, 1, 1, -1, -1, -1, -1, 1, 1, -1, -1, -1, -1, -1, -1, -1, -1, -1, -1, -1, -1, -1, 1, -1, 1]\n",
      "['http://dkb-kunden-login.selfip.com/kunden-access/eportal/.b74a8cb0f9fddec909226c606a0b54ac/login', 1, -1, 1, 1, 1, -1, -1, -1, -1, 1, 1, -1, -1, -1, -1, -1, -1, -1, -1, -1, -1, -1, -1, -1, 1, -1, 1]\n",
      "['http://dkb-kunden-login.selfip.com/kunden-access/eportal/.20d204c4933b7ea8a6d28cfa518242d2/login', 1, -1, 1, 1, 1, -1, -1, -1, -1, 1, 1, -1, -1, -1, -1, -1, -1, -1, -1, -1, -1, -1, -1, -1, 1, -1, 1]\n",
      "['http://dry-bar-4120.on.fleek.co/', 1, 1, 1, 1, 1, -1, -1, -1, -1, 1, 1, -1, -1, 1, -1, 1, -1, -1, -1, 1, -1, -1, -1, -1, 1, -1, 1]\n",
      "['https://dry-bar-4120.on.fleek.co/', 1, 1, 1, 1, 1, -1, -1, 1, -1, 1, 1, -1, -1, 1, -1, 1, -1, -1, -1, 1, -1, -1, -1, -1, 1, -1, 1]\n",
      "['http://composedlabs.com', 1, 1, 1, 1, 1, 1, 1, -1, -1, 1, 1, -1, -1, -1, -1, -1, -1, -1, -1, -1, -1, -1, -1, -1, 1, -1, 1]\n",
      "['http://kevinloehr.com', 1, 1, 1, 1, 1, 1, 1, -1, -1, 1, 1, -1, -1, -1, -1, -1, -1, -1, -1, -1, -1, -1, -1, -1, 1, -1, 1]\n",
      "['https://www.directi.smtb.jp.ap1-ib-logiin.cyou', 1, 1, 1, 1, 1, -1, -1, 1, -1, 1, 1, 0, -1, 0, -1, 1, -1, -1, -1, 1, -1, -1, -1, -1, 1, 1, 1]\n",
      "['https://15a77881-9ad1-4ee0-9535-12106f2290ef.id.repl.co/', 1, 0, 1, 1, 1, -1, -1, 1, -1, 1, 1, 0, -1, 1, -1, 1, -1, -1, -1, 1, -1, -1, -1, -1, 1, 0, 1]\n",
      "['http://emmabeede.com/', 1, 1, 1, 1, 1, 1, 1, -1, -1, 1, 1, 0, -1, 0, -1, 1, -1, -1, -1, 1, -1, -1, -1, -1, 1, 1, 1]\n",
      "['http://fdrobidoux.com/', 1, 1, -1, 1, 1, 1, 1, -1, -1, 1, 1, 0, -1, 0, -1, 1, -1, -1, -1, 1, -1, -1, -1, -1, 1, 1, 1]\n",
      "['http://citivxt.com/', 1, 1, -1, 1, 1, 1, 1, -1, -1, 1, 1, -1, -1, -1, -1, -1, -1, -1, -1, -1, -1, -1, -1, -1, 1, -1, 1]\n",
      "['http://fmytbtm.com/', 1, 1, 1, 1, 1, 1, 1, -1, -1, 1, 1, -1, -1, -1, -1, -1, -1, -1, -1, -1, -1, -1, -1, -1, 1, -1, 1]\n",
      "['http://guangfasa.com/', 1, 1, 1, 1, 1, 1, 1, -1, -1, 1, 1, -1, -1, -1, -1, -1, -1, -1, -1, -1, -1, -1, -1, -1, 1, -1, 1]\n",
      "['http://www.youspinaz.com/', 1, 1, 1, 1, 1, 1, 0, -1, -1, 1, 1, -1, -1, -1, -1, -1, -1, -1, -1, -1, -1, -1, -1, -1, 1, -1, 1]\n",
      "['http://registroformularioprestamo.viabcp.capo-di-moda.com/', 1, 0, 1, 1, 1, -1, -1, -1, -1, 1, 1, 0, -1, 0, -1, 1, -1, -1, -1, 1, -1, -1, -1, -1, 1, 1, 1]\n",
      "['http://qcgnbk.webwave.dev/', 1, 1, 1, 1, 1, 1, 0, -1, -1, 1, 1, 0, -1, 1, -1, 1, -1, -1, -1, 1, -1, -1, -1, -1, 1, 0, 1]\n",
      "['http://mail2.googlle.workers.dev/', 1, 1, 1, 1, 1, 1, -1, -1, -1, 1, 1, 0, -1, 0, -1, 1, -1, -1, -1, 1, -1, -1, -1, -1, 1, 1, 1]\n",
      "['http://www.mccraetreehouse.com.au/fedfc/index.html', 1, 1, 1, 1, 1, 1, -1, -1, -1, 1, 1, -1, -1, 1, -1, 1, -1, -1, -1, 1, -1, -1, -1, -1, 1, -1, 1]\n",
      "['https://at-t-mail.sitey.me/', 1, 1, 1, 1, 1, -1, 0, 1, -1, 1, 1, -1, -1, 1, -1, 1, -1, -1, -1, 1, -1, -1, -1, -1, 1, 0, 1]\n",
      "['https://chasesecureaccess11183.page.tl/', 1, 1, 1, 1, 1, 1, 0, 1, -1, 1, 1, -1, -1, 0, -1, 1, -1, -1, -1, 1, -1, -1, -1, -1, 1, 0, 1]\n",
      "['http://chasesecureaccess11183.page.tl/', 1, 1, 1, 1, 1, 1, 0, -1, -1, 1, 1, -1, -1, 0, -1, 1, -1, -1, -1, 1, -1, -1, -1, -1, 1, 0, 1]\n",
      "['https://us-robinhaodlog.gitbook.io/', 1, 1, 1, 1, 1, -1, 0, 1, -1, 1, 1, -1, -1, 1, -1, 1, -1, -1, -1, 1, -1, -1, -1, -1, 1, 0, 1]\n",
      "['https://us-robinhaodlog.gitbook.io/us/', 1, 1, 1, 1, 1, -1, 0, 1, -1, 1, 1, -1, -1, 1, -1, 1, -1, -1, -1, 1, -1, -1, -1, -1, 1, 0, 1]\n",
      "['https://robenhoodelogin.imweb.me/', 1, 1, 1, 1, 1, 1, 0, 1, -1, 1, 1, -1, -1, 0, -1, 1, -1, -1, 1, 1, -1, -1, -1, -1, 1, -1, 1]\n",
      "['https://chasesecureaccess1001.page.tl/', 1, 1, 1, 1, 1, 1, 0, 1, -1, 1, 1, -1, -1, 0, -1, 1, -1, -1, -1, 1, -1, -1, -1, -1, 1, 0, 1]\n",
      "['http://chasesecureaccess1001.page.tl/', 1, 1, 1, 1, 1, 1, 0, -1, -1, 1, 1, -1, -1, 0, -1, 1, -1, -1, -1, 1, -1, -1, -1, -1, 1, 0, 1]\n",
      "['https://www.indushealthplus.com/common/comps/ali/portal.php?email=enquiry.pfs@prima.com.sg', 1, -1, 1, -1, 1, 1, -1, 1, -1, 1, 1, -1, -1, 1, -1, 1, -1, -1, -1, 1, -1, -1, -1, -1, 1, 1, 1]\n",
      "['https://bafybeifjilrgbxbzztzp7z23hza7ccgtbqqsvytfpiktdjvqbx3m5unks4.ipfs.cf-ipfs.com/', 1, -1, 1, 1, 1, -1, -1, 1, -1, 1, 1, 0, -1, 0, -1, 1, -1, -1, -1, 1, -1, -1, -1, -1, 1, -1, 1]\n",
      "['http://zimbra-mail-2015d.firebaseapp.com/', 1, 1, 1, 1, 1, -1, 0, -1, -1, 1, 1, -1, -1, 0, -1, 1, -1, -1, -1, 1, -1, -1, -1, -1, 1, -1, 1]\n",
      "['http://d-outlook3930034.firebaseapp.com/', 1, 1, 1, 1, 1, -1, 0, -1, -1, 1, 1, 0, -1, 0, -1, 1, -1, -1, -1, 1, -1, -1, -1, -1, 1, 1, 1]\n",
      "['http://pdfdocument2-794bf.web.app/', 1, 1, 1, 1, 1, -1, 0, -1, -1, 1, 1, -1, -1, 1, -1, 1, -1, -1, -1, 1, -1, -1, -1, -1, 1, 0, 1]\n",
      "['http://bt8m1f.webwave.dev/', 1, 1, 1, 1, 1, 1, 0, -1, -1, 1, 1, 0, -1, 1, -1, 1, -1, -1, -1, 1, -1, -1, -1, -1, 1, 0, 1]\n"
     ]
    },
    {
     "name": "stdout",
     "output_type": "stream",
     "text": [
      "['http://klewehmekla.builderallwppro.com/DRIL/tracking/fV5EjH/details.php', 1, 0, 1, 1, 1, 1, -1, -1, -1, 1, 1, -1, -1, -1, -1, -1, -1, -1, -1, -1, -1, -1, -1, -1, 1, -1, 1]\n",
      "['http://hypeims-rhialt-hoosts.yolasite.com/', 1, 1, 1, 1, 1, -1, 0, -1, -1, 1, 1, 0, -1, 1, -1, 1, -1, -1, -1, 1, -1, -1, -1, -1, 1, 1, 1]\n",
      "['https://hypeims-rhialt-hoosts.yolasite.com/', 1, 1, 1, 1, 1, -1, 0, 1, -1, 1, 1, 0, -1, 1, -1, 1, -1, -1, -1, 1, -1, -1, -1, -1, 1, 1, 1]\n",
      "['http://www.ifos-egy.com/themes/stark/BT/bit/', 1, 1, 1, 1, 1, -1, 0, -1, -1, 1, 1, 0, -1, 0, -1, 1, -1, -1, -1, 1, -1, -1, -1, -1, 1, 1, 1]\n",
      "['http://www.ifos-egy.com/themes/stark/BT/bit', 1, 1, 1, 1, 1, -1, 0, -1, -1, 1, 1, 0, -1, 0, -1, 1, -1, -1, -1, 1, -1, -1, -1, -1, 1, 1, 1]\n",
      "['http://file-share-from-ervin-folder-view.web.app/', 1, 1, 1, 1, 1, -1, 0, -1, -1, 1, 1, 0, -1, 1, -1, 1, -1, -1, -1, 1, -1, -1, -1, -1, 1, 1, 1]\n",
      "['https://dhl-parcel-deliveryery.bereadyinc.com/.dhl./.parc./?0=matthew.king@bet365.com', 1, -1, 1, -1, 1, -1, -1, 1, -1, 1, 1, -1, -1, 1, -1, 1, -1, -1, -1, 1, -1, -1, -1, -1, 1, -1, 1]\n",
      "['https://safetycovertouse635498741.click/', 1, 1, 1, 1, 1, 1, 1, 1, -1, 1, 1, -1, -1, -1, -1, -1, -1, -1, -1, -1, -1, -1, -1, -1, 1, -1, 1]\n",
      "['http://file-cloud-share-drive-folder-view.web.app/', 1, 1, 1, 1, 1, -1, 0, -1, -1, 1, 1, 0, -1, 1, -1, 1, -1, -1, -1, 1, -1, -1, -1, -1, 1, 1, 1]\n",
      "['https://www.participation-confirmation.fr/', 1, 1, 1, 1, 1, -1, 0, 1, -1, 1, 1, -1, -1, 0, -1, 1, -1, -1, -1, 1, -1, -1, -1, -1, 1, 0, 1]\n",
      "['https://steam.piggycase.cn/', 1, 1, 1, 1, 1, 1, 0, 1, -1, 1, 1, -1, -1, 1, -1, 1, -1, -1, -1, 1, -1, -1, -1, -1, 1, -1, 1]\n",
      "['http://official-myetherwallet.ml/', 1, 1, 1, 1, 1, -1, 1, -1, -1, 1, 1, 0, -1, 0, -1, 1, -1, -1, -1, 1, -1, -1, -1, -1, 1, 1, 1]\n",
      "['http://online-cancellation7.com/Login.php', 1, 1, 1, 1, 1, -1, 0, -1, -1, 1, 1, -1, -1, -1, -1, -1, -1, -1, -1, -1, -1, -1, -1, -1, 1, -1, 1]\n",
      "['http://online-cancellation7.com/', 1, 1, 1, 1, 1, -1, 1, -1, -1, 1, 1, -1, -1, -1, -1, -1, -1, -1, -1, -1, -1, -1, -1, -1, 1, -1, 1]\n",
      "['http://kunden-login-dkb.here-for-more.info/kunden-access/eportal/.9a01854dfdb1162201d5240e3cc2aa6a/login/?', 1, -1, 1, 1, 1, -1, -1, -1, -1, 1, 1, -1, -1, -1, -1, -1, -1, -1, -1, -1, -1, -1, -1, -1, 1, -1, 1]\n",
      "['https://safetycovertouse123654785.click/', 1, 1, 1, 1, 1, 1, 1, 1, -1, 1, 1, -1, -1, 1, -1, 1, -1, -1, -1, 1, -1, -1, -1, -1, 1, -1, 1]\n",
      "['http://kunden-login-dkb.here-for-more.info/kunden-access/eportal/.9a01854dfdb1162201d5240e3cc2aa6a/login/', 1, -1, 1, 1, 1, -1, -1, -1, -1, 1, 1, -1, -1, -1, -1, -1, -1, -1, -1, -1, -1, -1, -1, -1, 1, -1, 1]\n",
      "['http://kunden-login-dkb.here-for-more.info/kunden-access/eportal/.9a01854dfdb1162201d5240e3cc2aa6a/login', 1, -1, 1, 1, 1, -1, -1, -1, -1, 1, 1, -1, -1, -1, -1, -1, -1, -1, -1, -1, -1, -1, -1, -1, 1, -1, 1]\n",
      "['http://kunden-login-dkb.here-for-more.info/kunden-access/eportal/.27fe65e9bb760c2bbf32f388fef5db7b/login/', 1, -1, 1, 1, 1, -1, -1, -1, -1, 1, 1, -1, -1, -1, -1, -1, -1, -1, -1, -1, -1, -1, -1, -1, 1, -1, 1]\n",
      "['http://kunden-login-dkb.here-for-more.info/kunden-access/eportal/.27fe65e9bb760c2bbf32f388fef5db7b/login', 1, -1, 1, 1, 1, -1, -1, -1, -1, 1, 1, -1, -1, -1, -1, -1, -1, -1, -1, -1, -1, -1, -1, -1, 1, -1, 1]\n",
      "['https://sabbonline.net/en/index.html', 1, 1, 1, 1, 1, 1, 0, 1, -1, 1, 1, -1, -1, 1, -1, 1, -1, -1, -1, 1, -1, -1, -1, -1, 1, -1, 1]\n",
      "['http://metamcsk.com', 1, 1, 1, 1, 1, 1, 1, -1, -1, 1, 1, -1, -1, -1, -1, -1, -1, -1, -1, -1, -1, -1, -1, -1, 1, -1, 1]\n",
      "['http://uegfnrcexs.duckdns.org', 1, 1, 1, 1, 1, 1, 0, -1, -1, 1, 1, -1, -1, -1, -1, -1, -1, -1, -1, -1, -1, -1, -1, -1, 1, -1, 1]\n",
      "['http://asxexchange.com', 1, 1, 1, 1, 1, 1, 1, -1, -1, 1, 1, 0, -1, 0, -1, 1, -1, -1, 1, 1, -1, -1, -1, -1, 1, 1, 1]\n",
      "['https://192.249.119.44/wp-includes/customize/auther/login/nab/', 1, 0, 1, 1, 1, 1, -1, 1, -1, 1, 1, -1, -1, -1, -1, -1, -1, -1, -1, -1, -1, -1, -1, -1, 1, -1, 1]\n",
      "['http://www.saisosiaoarcrd.co.jp.rogly.top/', 1, 1, 1, 1, 1, 1, -1, -1, -1, 1, 1, 0, -1, 0, -1, 1, -1, -1, -1, -1, -1, -1, -1, -1, 1, 1, 1]\n",
      "['http://www.saisosnoarcrd.co.jp.ursator.top/', 1, 1, 1, 1, 1, 1, -1, -1, -1, 1, 1, 0, -1, 0, -1, 1, -1, -1, -1, -1, -1, -1, -1, -1, 1, 1, 1]\n"
     ]
    }
   ],
   "source": [
    "urls = phish['url'][1575:10000]\n",
    "start_time = time.time() \n",
    "with open('df.csv', 'a') as f_object:\n",
    "    writer_object = writer(f_object)\n",
    "    for link in urls:\n",
    "        obj = FeaturesFinder(link)\n",
    "        Features = obj.getFeaturesList()\n",
    "        print(Features)\n",
    "        writer_object.writerow(Features)\n",
    "\n",
    "    f_object.close()\n",
    "\n",
    "print(\"Process finished --- %s seconds ---\" % (time.time() - start_time))"
   ]
  },
  {
   "cell_type": "code",
   "execution_count": 4,
   "id": "4530d4cf",
   "metadata": {
    "scrolled": true
   },
   "outputs": [
    {
     "name": "stdout",
     "output_type": "stream",
     "text": [
      "                              http://qpost.site  1  1.1  1.2  1.3  1.4  1.5   \n",
      "0              https://bnprailbas-goonline.top/  1    1    1    1    1   -1  \\\n",
      "1                       https://bankequity.info  1    1    1    1    1    1   \n",
      "2                         https://bgzplanet.top  1    1    1    1    1    1   \n",
      "3              https://bnprailbas-goonlline.top  1    1    1    1    1   -1   \n",
      "4                          http://metamaskp.com  1    1    1    1    1    1   \n",
      "...                                         ... ..  ...  ...  ...  ...  ...   \n",
      "1569      https://login.smjtb-japan-hansom.cyou  1    1    1    1    1   -1   \n",
      "1570       https://login.smjtb-japan-reade.cyou  1    1    1    1    1   -1   \n",
      "1571  https://www.login-smjtb.japan-xavice.cyou  1    1    1    1    1   -1   \n",
      "1572                    https://cabletelatl.com  1    1    1    1    1    1   \n",
      "1573                     https://prinzeneis.com  1    1    1    1    1    1   \n",
      "\n",
      "      1.6  -1  -1.1  ...  -1.8  -1.9  -1.10  -1.11  -1.12  -1.13  -1.14  1.9   \n",
      "0       1   1    -1  ...    -1    -1      1     -1     -1     -1     -1    1  \\\n",
      "1       1   1    -1  ...    -1    -1      1     -1     -1     -1     -1    1   \n",
      "2       1   1    -1  ...    -1    -1      1     -1     -1     -1     -1    1   \n",
      "3       1   1    -1  ...    -1    -1      1     -1     -1     -1     -1    1   \n",
      "4       1  -1    -1  ...    -1    -1      1     -1     -1     -1     -1    1   \n",
      "...   ...  ..   ...  ...   ...   ...    ...    ...    ...    ...    ...  ...   \n",
      "1569    0   1    -1  ...    -1    -1     -1     -1     -1     -1     -1    1   \n",
      "1570    0   1    -1  ...    -1    -1     -1     -1     -1     -1     -1    1   \n",
      "1571   -1   1    -1  ...    -1    -1     -1     -1     -1     -1     -1    1   \n",
      "1572    1   1    -1  ...    -1    -1     -1     -1     -1     -1     -1    1   \n",
      "1573    1   1    -1  ...    -1    -1     -1     -1     -1     -1     -1    1   \n",
      "\n",
      "      -1.15  1.10  \n",
      "0        -1     1  \n",
      "1         1     1  \n",
      "2        -1     1  \n",
      "3        -1     1  \n",
      "4        -1     1  \n",
      "...     ...   ...  \n",
      "1569     -1     1  \n",
      "1570     -1     1  \n",
      "1571     -1     1  \n",
      "1572     -1     1  \n",
      "1573     -1     1  \n",
      "\n",
      "[1574 rows x 28 columns]\n"
     ]
    }
   ],
   "source": [
    "test = pd.read_csv('df.csv')\n",
    "print(test)"
   ]
  },
  {
   "cell_type": "code",
   "execution_count": 7,
   "id": "447f5d73",
   "metadata": {},
   "outputs": [
    {
     "name": "stdout",
     "output_type": "stream",
     "text": [
      "['https://prinzeneis.com', 1, 1, 1, 1, 1, 1, 1, 1, -1, 1, 1, -1, -1, -1, -1, -1, -1, -1, -1, -1, -1, -1, -1, -1, 1, -1, 1]\n",
      "['https://composedlabs.com', 1, 1, 1, 1, 1, 1, 1, 1, -1, 1, 1, -1, -1, -1, -1, -1, -1, -1, -1, -1, -1, -1, -1, -1, 1, -1, 1]\n",
      "Process finished --- 4.881749391555786 seconds ---\n"
     ]
    }
   ],
   "source": [
    "urls = phish['url'][1575:1576]\n",
    "start_time = time.time() \n",
    "for link in urls:\n",
    "    obj = FeaturesFinder(link)\n",
    "    Features = obj.getFeaturesList()\n",
    "    print(Features)\n",
    "\n",
    "\n",
    "print(\"Process finished --- %s seconds ---\" % (time.time() - start_time))"
   ]
  },
  {
   "cell_type": "code",
   "execution_count": null,
   "id": "ab82dbc9",
   "metadata": {},
   "outputs": [],
   "source": []
  }
 ],
 "metadata": {
  "kernelspec": {
   "display_name": "Python 3 (ipykernel)",
   "language": "python",
   "name": "python3"
  },
  "language_info": {
   "codemirror_mode": {
    "name": "ipython",
    "version": 3
   },
   "file_extension": ".py",
   "mimetype": "text/x-python",
   "name": "python",
   "nbconvert_exporter": "python",
   "pygments_lexer": "ipython3",
   "version": "3.10.7"
  }
 },
 "nbformat": 4,
 "nbformat_minor": 5
}
