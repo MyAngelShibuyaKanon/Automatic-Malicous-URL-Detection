{
 "cells": [
  {
   "cell_type": "code",
   "execution_count": 25,
   "id": "23e4264f",
   "metadata": {},
   "outputs": [],
   "source": [
    "from features import FeaturesFinder\n",
    "import time\n",
    "import pandas as pd\n",
    "from threading import Thread"
   ]
  },
  {
   "cell_type": "code",
   "execution_count": 26,
   "id": "3e722bb7",
   "metadata": {
    "scrolled": true
   },
   "outputs": [],
   "source": [
    "phish = pd.read_csv('verified_online.csv')\n",
    "url = []"
   ]
  },
  {
   "cell_type": "code",
   "execution_count": 27,
   "id": "b22bb653",
   "metadata": {},
   "outputs": [],
   "source": [
    "def searchfeatures(link):\n",
    "    obj = FeaturesFinder(link)\n",
    "    Features = obj.getFeaturesList()\n",
    "    return(Features)\n",
    "\n",
    "def printfeatures(link):\n",
    "    Features = searchfeatures(link)\n",
    "    print(Features)"
   ]
  },
  {
   "cell_type": "code",
   "execution_count": 29,
   "id": "1815eec5",
   "metadata": {},
   "outputs": [
    {
     "ename": "NameError",
     "evalue": "name 'threads' is not defined",
     "output_type": "error",
     "traceback": [
      "\u001b[1;31m---------------------------------------------------------------------------\u001b[0m",
      "\u001b[1;31mNameError\u001b[0m                                 Traceback (most recent call last)",
      "Cell \u001b[1;32mIn[29], line 6\u001b[0m\n\u001b[0;32m      2\u001b[0m start_time \u001b[38;5;241m=\u001b[39m time\u001b[38;5;241m.\u001b[39mtime()\n\u001b[0;32m      5\u001b[0m \u001b[38;5;28;01mfor\u001b[39;00m link \u001b[38;5;129;01min\u001b[39;00m url:\n\u001b[1;32m----> 6\u001b[0m     \u001b[43mthreads\u001b[49m\u001b[38;5;241m.\u001b[39mappend(Thread(target\u001b[38;5;241m=\u001b[39mprintfeatures(link), args\u001b[38;5;241m=\u001b[39m(link,)))\n\u001b[0;32m      7\u001b[0m     threads\u001b[38;5;241m.\u001b[39mstart()\n\u001b[0;32m      8\u001b[0m \u001b[38;5;28;01mfor\u001b[39;00m thread \u001b[38;5;129;01min\u001b[39;00m threads:\n",
      "\u001b[1;31mNameError\u001b[0m: name 'threads' is not defined"
     ]
    }
   ],
   "source": [
    "url = phish['url'][0:10]\n",
    "start_time = time.time()\n",
    "threads = []\n",
    "\n",
    "for link in url:\n",
    "    threads.append(Thread(target=printfeatures(link), args=(link,)))\n",
    "    threads.start()\n",
    "for thread in threads:\n",
    "    thread.join()\n",
    "    \n",
    "print(\"Done\", flush=True)\n",
    "print(\"Process finished --- %s seconds ---\" % (time.time() - start_time))"
   ]
  },
  {
   "cell_type": "code",
   "execution_count": null,
   "id": "98b205f2",
   "metadata": {},
   "outputs": [],
   "source": []
  }
 ],
 "metadata": {
  "kernelspec": {
   "display_name": "Python 3 (ipykernel)",
   "language": "python",
   "name": "python3"
  },
  "language_info": {
   "codemirror_mode": {
    "name": "ipython",
    "version": 3
   },
   "file_extension": ".py",
   "mimetype": "text/x-python",
   "name": "python",
   "nbconvert_exporter": "python",
   "pygments_lexer": "ipython3",
   "version": "3.10.7"
  }
 },
 "nbformat": 4,
 "nbformat_minor": 5
}
